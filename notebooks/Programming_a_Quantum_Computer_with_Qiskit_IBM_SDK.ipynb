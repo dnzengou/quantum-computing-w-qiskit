{
  "nbformat": 4,
  "nbformat_minor": 0,
  "metadata": {
    "kernelspec": {
      "display_name": "Python 3",
      "language": "python",
      "name": "python3"
    },
    "language_info": {
      "codemirror_mode": {
        "name": "ipython",
        "version": 3
      },
      "file_extension": ".py",
      "mimetype": "text/x-python",
      "name": "python",
      "nbconvert_exporter": "python",
      "pygments_lexer": "ipython3",
      "version": "3.8.3"
    },
    "colab": {
      "name": "Guided-Project_Programming-a-Quantum-Computer-with-Qiskit_IBM-SDK.ipynb",
      "provenance": [],
      "collapsed_sections": [
        "gW_q638lXlJ3",
        "aL3IcVZBXlKI",
        "J8RHxKPcXlKM",
        "5ddopacrXlKg"
      ]
    }
  },
  "cells": [
    {
      "cell_type": "markdown",
      "metadata": {
        "id": "wrU8v67XXlG1"
      },
      "source": [
        "# Task One : Fuandamentals of Qunatum Computation"
      ]
    },
    {
      "cell_type": "markdown",
      "metadata": {
        "id": "aJ2qfu56XlG3"
      },
      "source": [
        "## Basic Arithmatic Operations & Complex Numbers"
      ]
    },
    {
      "cell_type": "code",
      "metadata": {
        "id": "hC8XSuxEXlG5",
        "outputId": "78b4a799-318f-49dc-ce3a-265a213f338d",
        "colab": {
          "base_uri": "https://localhost:8080/"
        }
      },
      "source": [
        "3*5"
      ],
      "execution_count": 1,
      "outputs": [
        {
          "output_type": "execute_result",
          "data": {
            "text/plain": [
              "15"
            ]
          },
          "metadata": {
            "tags": []
          },
          "execution_count": 1
        }
      ]
    },
    {
      "cell_type": "code",
      "metadata": {
        "id": "qmGO7RD5XlHA",
        "outputId": "66e2ea9d-3cac-49fb-df7c-60898560833c",
        "colab": {
          "base_uri": "https://localhost:8080/"
        }
      },
      "source": [
        "8/4"
      ],
      "execution_count": 2,
      "outputs": [
        {
          "output_type": "execute_result",
          "data": {
            "text/plain": [
              "2.0"
            ]
          },
          "metadata": {
            "tags": []
          },
          "execution_count": 2
        }
      ]
    },
    {
      "cell_type": "markdown",
      "metadata": {
        "id": "zmkLLCxdXlHK"
      },
      "source": [
        "Complex numbers are always of the form\n",
        "\n",
        "\\begin{align}\n",
        "\\alpha = a + bi\n",
        "\\end{align}\n"
      ]
    },
    {
      "cell_type": "code",
      "metadata": {
        "id": "akdKCyavXlHM",
        "outputId": "4ef1e3a3-99ca-4a4e-a5d0-1062682fabb7",
        "colab": {
          "base_uri": "https://localhost:8080/"
        }
      },
      "source": [
        "# in python jupyter notebook, j represents i in the space of complex numbers (i.e j^2 = =1)\n",
        "\n",
        "1j*1j\n",
        "#j*j is not recognized"
      ],
      "execution_count": 6,
      "outputs": [
        {
          "output_type": "execute_result",
          "data": {
            "text/plain": [
              "(-1+0j)"
            ]
          },
          "metadata": {
            "tags": []
          },
          "execution_count": 6
        }
      ]
    },
    {
      "cell_type": "code",
      "metadata": {
        "id": "iOsxXFxNXlHS"
      },
      "source": [
        "z=4+8j"
      ],
      "execution_count": 7,
      "outputs": []
    },
    {
      "cell_type": "code",
      "metadata": {
        "id": "ud5MSo14XlHY"
      },
      "source": [
        "w=5-5j"
      ],
      "execution_count": 8,
      "outputs": []
    },
    {
      "cell_type": "code",
      "metadata": {
        "id": "kBBpTqFmXlHe"
      },
      "source": [
        "import numpy as np"
      ],
      "execution_count": 9,
      "outputs": []
    },
    {
      "cell_type": "code",
      "metadata": {
        "id": "kmpZUlT5XlHj",
        "outputId": "7dda2bb4-e7d4-46e3-d971-82a13ffd8b4c",
        "colab": {
          "base_uri": "https://localhost:8080/"
        }
      },
      "source": [
        "print(\"Real of z:\", np.real(z))"
      ],
      "execution_count": 11,
      "outputs": [
        {
          "output_type": "stream",
          "text": [
            "Real of z: 4.0\n"
          ],
          "name": "stdout"
        }
      ]
    },
    {
      "cell_type": "code",
      "metadata": {
        "id": "CP9PoLrwalGr",
        "outputId": "cf012277-7be2-4857-e12d-16563bba61d1",
        "colab": {
          "base_uri": "https://localhost:8080/"
        }
      },
      "source": [
        "print(\"Imag of w:\", np.imag(w))"
      ],
      "execution_count": 13,
      "outputs": [
        {
          "output_type": "stream",
          "text": [
            "Imag of w: -5.0\n"
          ],
          "name": "stdout"
        }
      ]
    },
    {
      "cell_type": "code",
      "metadata": {
        "id": "YS3j0IorXlHr",
        "outputId": "f2527f26-6a80-4f8a-b858-765e8c7f8901",
        "colab": {
          "base_uri": "https://localhost:8080/"
        }
      },
      "source": [
        "z+w"
      ],
      "execution_count": 14,
      "outputs": [
        {
          "output_type": "execute_result",
          "data": {
            "text/plain": [
              "(9+3j)"
            ]
          },
          "metadata": {
            "tags": []
          },
          "execution_count": 14
        }
      ]
    },
    {
      "cell_type": "markdown",
      "metadata": {
        "id": "nZbJ-SqzXlH7"
      },
      "source": [
        "## Complex conjugate"
      ]
    },
    {
      "cell_type": "code",
      "metadata": {
        "id": "r9Wv-z0FXlH8",
        "outputId": "5e936fea-b60a-4acd-fc4b-db9cc6bc8212",
        "colab": {
          "base_uri": "https://localhost:8080/"
        }
      },
      "source": [
        "w"
      ],
      "execution_count": 15,
      "outputs": [
        {
          "output_type": "execute_result",
          "data": {
            "text/plain": [
              "(5-5j)"
            ]
          },
          "metadata": {
            "tags": []
          },
          "execution_count": 15
        }
      ]
    },
    {
      "cell_type": "code",
      "metadata": {
        "id": "7X_oZ-WiXlIC",
        "outputId": "37492264-4477-4761-a0fb-ea091f02209d",
        "colab": {
          "base_uri": "https://localhost:8080/"
        }
      },
      "source": [
        "# complex conjugate\n",
        "np.conj(w)"
      ],
      "execution_count": 17,
      "outputs": [
        {
          "output_type": "execute_result",
          "data": {
            "text/plain": [
              "(5+5j)"
            ]
          },
          "metadata": {
            "tags": []
          },
          "execution_count": 17
        }
      ]
    },
    {
      "cell_type": "markdown",
      "metadata": {
        "id": "GCF_wGADXlIH"
      },
      "source": [
        "## Norms/Absolute Values\n",
        "\n",
        "\n",
        "\n",
        "\\begin{align} ||z|| &= \\sqrt{zz^*} = \\sqrt{|z|^2},\\\\ ||w|| &= \\sqrt{ww^*} = \\sqrt{|w|^2}, \\end{align} "
      ]
    },
    {
      "cell_type": "code",
      "metadata": {
        "id": "64f7Rzb_XlII",
        "outputId": "5a6df3f6-be3a-447e-c7c7-4888cb8232bb",
        "colab": {
          "base_uri": "https://localhost:8080/"
        }
      },
      "source": [
        "# the absolute value of a complex number is found by multiplying it by its complex conjugate, then the square root of the result\n",
        "np.sqrt(z * np.conj(z))"
      ],
      "execution_count": 23,
      "outputs": [
        {
          "output_type": "execute_result",
          "data": {
            "text/plain": [
              "(8.94427190999916+0j)"
            ]
          },
          "metadata": {
            "tags": []
          },
          "execution_count": 23
        }
      ]
    },
    {
      "cell_type": "code",
      "metadata": {
        "id": "1B7zSs-zbudU",
        "outputId": "4158051f-d8ed-4e7c-acb7-33c732484eea",
        "colab": {
          "base_uri": "https://localhost:8080/"
        }
      },
      "source": [
        "np.abs(z)"
      ],
      "execution_count": 21,
      "outputs": [
        {
          "output_type": "execute_result",
          "data": {
            "text/plain": [
              "8.94427190999916"
            ]
          },
          "metadata": {
            "tags": []
          },
          "execution_count": 21
        }
      ]
    },
    {
      "cell_type": "code",
      "metadata": {
        "id": "goKQg_iwXlIO",
        "outputId": "e9433c25-e1f9-4e0b-b0de-b422577810fa",
        "colab": {
          "base_uri": "https://localhost:8080/"
        }
      },
      "source": [
        "np.abs(w)"
      ],
      "execution_count": 24,
      "outputs": [
        {
          "output_type": "execute_result",
          "data": {
            "text/plain": [
              "7.0710678118654755"
            ]
          },
          "metadata": {
            "tags": []
          },
          "execution_count": 24
        }
      ]
    },
    {
      "cell_type": "markdown",
      "metadata": {
        "id": "_enxtk9pXlIR"
      },
      "source": [
        "## Row Vectors, Column Vectors, and Bra-Ket Notation"
      ]
    },
    {
      "cell_type": "markdown",
      "metadata": {
        "id": "FPbWSbJlXlIR"
      },
      "source": [
        "\\begin{align} \\text{Column Vector:} \\ \\begin{pmatrix}\n",
        "a_1 \\\\ a_2 \\\\ \\vdots \\\\ a_n\n",
        "\\end{pmatrix} \n",
        "\\quad \\quad \\text{Row Vector:} \\ \\begin{pmatrix}\n",
        "a_1, & a_2, & \\cdots, & a_n\n",
        "\\end{pmatrix} \\end{align}\n",
        "\n"
      ]
    },
    {
      "cell_type": "code",
      "metadata": {
        "id": "9eZx4MYfXlIS",
        "outputId": "818dbaa9-f0a2-4b7a-d61b-c530e12f80b4",
        "colab": {
          "base_uri": "https://localhost:8080/"
        }
      },
      "source": [
        "row_vec = np.array([1, 2+2j, 3]); row_vec"
      ],
      "execution_count": 25,
      "outputs": [
        {
          "output_type": "execute_result",
          "data": {
            "text/plain": [
              "array([1.+0.j, 2.+2.j, 3.+0.j])"
            ]
          },
          "metadata": {
            "tags": []
          },
          "execution_count": 25
        }
      ]
    },
    {
      "cell_type": "code",
      "metadata": {
        "id": "jgAE00vmXlIW",
        "outputId": "c0f5f4fb-4b7d-49a7-e2e8-2dfae1813c0d",
        "colab": {
          "base_uri": "https://localhost:8080/"
        }
      },
      "source": [
        "col_vec = np.array([[1],[2+2j],[3]]); col_vec"
      ],
      "execution_count": 26,
      "outputs": [
        {
          "output_type": "execute_result",
          "data": {
            "text/plain": [
              "array([[1.+0.j],\n",
              "       [2.+2.j],\n",
              "       [3.+0.j]])"
            ]
          },
          "metadata": {
            "tags": []
          },
          "execution_count": 26
        }
      ]
    },
    {
      "cell_type": "markdown",
      "metadata": {
        "id": "bFkgnYeeXlIZ"
      },
      "source": [
        "Row vectors in quantum mechanics are also called **bra-vectors**, and are denoted as follows:\n",
        "\n",
        "\\begin{align} \\langle A| = \\begin{pmatrix}\n",
        "a_1, & a_2, \\cdots, & a_n\n",
        "\\end{pmatrix} \\end{align}\n",
        "\n",
        "Column vectors are also called **ket-vectors** in quantum mechanics denoted as follows:\n",
        "\n",
        "\\begin{align} |B\\rangle = \\begin{pmatrix}\n",
        "b_1 \\\\ b_2 \\\\ \\vdots \\\\ b_n\n",
        "\\end{pmatrix} \\end{align}\n",
        "\n",
        "In general, if we have a column vector, i.e. a ket-vector:\n",
        "\n",
        "\\begin{align} |A\\rangle = \\begin{pmatrix}\n",
        "a_1 \\\\ a_2 \\\\ \\vdots \\\\ a_n\n",
        "\\end{pmatrix} \\end{align}\n",
        "\n",
        "the corresponding bra-vector:\n",
        "\n",
        "\\begin{align} \\langle A| = \\begin{pmatrix}\n",
        "a_1^*, & a_2^*, & \\cdots, & a_n^*\n",
        "\\end{pmatrix} \\end{align}\n"
      ]
    },
    {
      "cell_type": "code",
      "metadata": {
        "id": "S8g6Fz_HXlIa"
      },
      "source": [
        "# bra-vector (row vector) = complex conjugate of ket-vector (column vector)"
      ],
      "execution_count": 28,
      "outputs": []
    },
    {
      "cell_type": "code",
      "metadata": {
        "id": "cReU9ah0XlIe"
      },
      "source": [
        ""
      ],
      "execution_count": null,
      "outputs": []
    },
    {
      "cell_type": "markdown",
      "metadata": {
        "id": "6hi-RC5lXlIh"
      },
      "source": [
        "## Inner Product\n",
        "\n",
        "\\begin{align} \\langle A| = \\begin{pmatrix}\n",
        "a_1, & a_2, & \\cdots, & a_n\n",
        "\\end{pmatrix}, \\quad \\quad\n",
        "|B\\rangle = \\begin{pmatrix}\n",
        "b_1 \\\\ b_2 \\\\ \\vdots \\\\ b_n\n",
        "\\end{pmatrix} \\end{align}\n",
        "\n",
        "Taking the inner product of $\\langle A|$ and $|B\\rangle$ gives the following:\n",
        "\n",
        "\\begin{align} \\langle A| B \\rangle &= \\begin{pmatrix} \n",
        "a_1, & a_2, & \\cdots, & a_n\n",
        "\\end{pmatrix}\n",
        "\\begin{pmatrix}\n",
        "b_1 \\\\ b_2 \\\\ \\vdots \\\\ b_n\n",
        "\\end{pmatrix}\\\\\n",
        "&= \n",
        "a_1b_1 + a_2b_2 + \\cdots + a_nb_n\\\\\n",
        "&= \\sum_{i=1}^n a_ib_i\n",
        "\\end{align}"
      ]
    },
    {
      "cell_type": "code",
      "metadata": {
        "id": "Yzz6A5QWXlIi",
        "outputId": "00195270-d3ea-457e-f1ca-6f05a2f5e3e1",
        "colab": {
          "base_uri": "https://localhost:8080/"
        }
      },
      "source": [
        "# Define the 4x1 matrix version of a column vector (instead of using the np.array() version):\n",
        "A = np.array([[1],[4-5j],[5],[3]]); A"
      ],
      "execution_count": 29,
      "outputs": [
        {
          "output_type": "execute_result",
          "data": {
            "text/plain": [
              "array([[1.+0.j],\n",
              "       [4.-5.j],\n",
              "       [5.+0.j],\n",
              "       [3.+0.j]])"
            ]
          },
          "metadata": {
            "tags": []
          },
          "execution_count": 29
        }
      ]
    },
    {
      "cell_type": "code",
      "metadata": {
        "id": "Eg9k4HAEXlIn",
        "outputId": "417155b9-4891-4902-f712-c126e594d851",
        "colab": {
          "base_uri": "https://localhost:8080/"
        }
      },
      "source": [
        "# Define B as a 1x4 matrix\n",
        "B = np.array([1, 5, -4j, -1j]); B"
      ],
      "execution_count": 30,
      "outputs": [
        {
          "output_type": "execute_result",
          "data": {
            "text/plain": [
              "array([ 1.+0.j,  5.+0.j, -0.-4.j, -0.-1.j])"
            ]
          },
          "metadata": {
            "tags": []
          },
          "execution_count": 30
        }
      ]
    },
    {
      "cell_type": "code",
      "metadata": {
        "id": "saCu2r9fXlIs",
        "outputId": "b3b38400-b155-4dd2-d103-17b3bda13ef5",
        "colab": {
          "base_uri": "https://localhost:8080/"
        }
      },
      "source": [
        "# Compute the inner product of B and A: <B|A>\n",
        "## where 21 = Re(<B|A>), -48=Im(<B|A>)\n",
        "np.dot(B,A)"
      ],
      "execution_count": 53,
      "outputs": [
        {
          "output_type": "execute_result",
          "data": {
            "text/plain": [
              "array([21.-48.j])"
            ]
          },
          "metadata": {
            "tags": []
          },
          "execution_count": 53
        }
      ]
    },
    {
      "cell_type": "markdown",
      "metadata": {
        "id": "GZaTJKJiXlIx"
      },
      "source": [
        "## Matrices"
      ]
    },
    {
      "cell_type": "markdown",
      "metadata": {
        "id": "FDKaqeJyXlIx"
      },
      "source": [
        "\n",
        "\\begin{align}\n",
        "M = \\begin{pmatrix}\n",
        "2-i & -3 \\\\\n",
        "-5i & 2\n",
        "\\end{pmatrix}\n",
        "\\end{align}"
      ]
    },
    {
      "cell_type": "code",
      "metadata": {
        "id": "bXwXKq2rXlIy",
        "outputId": "b9034f65-7558-46a3-da21-810d19caa81b",
        "colab": {
          "base_uri": "https://localhost:8080/"
        }
      },
      "source": [
        "M = np.array([[2-1j, -3j],[-5j, 2]]); print(M)"
      ],
      "execution_count": 34,
      "outputs": [
        {
          "output_type": "stream",
          "text": [
            "[[ 2.-1.j -0.-3.j]\n",
            " [-0.-5.j  2.+0.j]]\n"
          ],
          "name": "stdout"
        }
      ]
    },
    {
      "cell_type": "code",
      "metadata": {
        "id": "GLScDKfLXlI1",
        "outputId": "6231bd57-ad36-4d59-d152-e85e72c48508",
        "colab": {
          "base_uri": "https://localhost:8080/"
        }
      },
      "source": [
        "M = np.matrix([[2-1j, -3j],[-5j, 2]]); print(M)"
      ],
      "execution_count": 35,
      "outputs": [
        {
          "output_type": "stream",
          "text": [
            "[[ 2.-1.j -0.-3.j]\n",
            " [-0.-5.j  2.+0.j]]\n"
          ],
          "name": "stdout"
        }
      ]
    },
    {
      "cell_type": "markdown",
      "metadata": {
        "id": "fC_Xf7z7XlI4"
      },
      "source": [
        "Hermitian conjugates are given by taking the conjugate transpose of the matrix"
      ]
    },
    {
      "cell_type": "code",
      "metadata": {
        "id": "UhCv6Nl8XlI4",
        "outputId": "7c11c469-89cb-448c-f7bd-053fc520f53b",
        "colab": {
          "base_uri": "https://localhost:8080/"
        }
      },
      "source": [
        "M.H"
      ],
      "execution_count": 37,
      "outputs": [
        {
          "output_type": "execute_result",
          "data": {
            "text/plain": [
              "matrix([[ 2.+1.j, -0.+5.j],\n",
              "        [-0.+3.j,  2.-0.j]])"
            ]
          },
          "metadata": {
            "tags": []
          },
          "execution_count": 37
        }
      ]
    },
    {
      "cell_type": "code",
      "metadata": {
        "id": "SUbHttA8iWY6",
        "outputId": "edcc8b22-e618-4a80-8a4e-d232d8a8ba86",
        "colab": {
          "base_uri": "https://localhost:8080/"
        }
      },
      "source": [
        "# (M^T)* <=> M.H\n",
        "np.transpose(np.conj(M))"
      ],
      "execution_count": 43,
      "outputs": [
        {
          "output_type": "execute_result",
          "data": {
            "text/plain": [
              "matrix([[ 2.+1.j, -0.+5.j],\n",
              "        [-0.+3.j,  2.-0.j]])"
            ]
          },
          "metadata": {
            "tags": []
          },
          "execution_count": 43
        }
      ]
    },
    {
      "cell_type": "markdown",
      "metadata": {
        "id": "ZRpzFTf7XlI7"
      },
      "source": [
        "## Tensor Products of Matrices"
      ]
    },
    {
      "cell_type": "markdown",
      "metadata": {
        "id": "_eDs5YDBXlI8"
      },
      "source": [
        "\\begin{align}\n",
        "\\begin{pmatrix}\n",
        "a & b \\\\\n",
        "c & d\n",
        "\\end{pmatrix} \\otimes \n",
        "\\begin{pmatrix}\n",
        "x & y \\\\\n",
        "z & w\n",
        "\\end{pmatrix} = \n",
        "\\begin{pmatrix}\n",
        "a \\begin{pmatrix}\n",
        "x & y \\\\\n",
        "z & w\n",
        "\\end{pmatrix} & b \\begin{pmatrix}\n",
        "x & y \\\\\n",
        "z & w\n",
        "\\end{pmatrix} \\\\\n",
        "c \\begin{pmatrix}\n",
        "x & y \\\\\n",
        "z & w\n",
        "\\end{pmatrix} & d \\begin{pmatrix}\n",
        "x & y \\\\\n",
        "z & w\n",
        "\\end{pmatrix}\n",
        "\\end{pmatrix} = \n",
        "\\begin{pmatrix}\n",
        "ax & ay & bx & by \\\\\n",
        "az & aw & bz & bw \\\\\n",
        "cx & cy & dx & dy \\\\\n",
        "cz & cw & dz & dw\n",
        "\\end{pmatrix}\n",
        "\\end{align}"
      ]
    },
    {
      "cell_type": "code",
      "metadata": {
        "id": "7Br_gj9MXlI8",
        "outputId": "21256f63-2542-4e9e-da0b-9d61f953090d",
        "colab": {
          "base_uri": "https://localhost:8080/"
        }
      },
      "source": [
        "# tensor product = \"produit vectoriel\"\n",
        "## With M a 2x2 matrix, the tensor product of M with M is a 4x4 matrix\n",
        "\n",
        "np.kron(M,M)"
      ],
      "execution_count": 45,
      "outputs": [
        {
          "output_type": "execute_result",
          "data": {
            "text/plain": [
              "matrix([[  3. -4.j,  -3. -6.j,  -3. -6.j,  -9. +0.j],\n",
              "        [ -5.-10.j,   4. -2.j, -15. +0.j,   0. -6.j],\n",
              "        [ -5.-10.j, -15. +0.j,   4. -2.j,   0. -6.j],\n",
              "        [-25. +0.j,   0.-10.j,   0.-10.j,   4. +0.j]])"
            ]
          },
          "metadata": {
            "tags": []
          },
          "execution_count": 45
        }
      ]
    },
    {
      "cell_type": "markdown",
      "metadata": {
        "id": "eGpDrl5IXlJA"
      },
      "source": [
        "# Task Two: Qubits, Bloch Sphere and Basis States"
      ]
    },
    {
      "cell_type": "code",
      "metadata": {
        "id": "J3RTevWOYir8"
      },
      "source": [
        "#!pip install qiskit"
      ],
      "execution_count": 50,
      "outputs": []
    },
    {
      "cell_type": "code",
      "metadata": {
        "id": "BrXQnqQhXlJB",
        "outputId": "2be5eb84-07be-4ea4-9524-402926469787",
        "colab": {
          "base_uri": "https://localhost:8080/"
        }
      },
      "source": [
        "import qiskit\n",
        "qiskit.__qiskit_version__"
      ],
      "execution_count": 51,
      "outputs": [
        {
          "output_type": "execute_result",
          "data": {
            "text/plain": [
              "{'qiskit': None,\n",
              " 'qiskit-aer': '0.7.0',\n",
              " 'qiskit-aqua': '0.8.0',\n",
              " 'qiskit-ibmq-provider': '0.11.0',\n",
              " 'qiskit-ignis': '0.5.0',\n",
              " 'qiskit-terra': '0.16.0'}"
            ]
          },
          "metadata": {
            "tags": []
          },
          "execution_count": 51
        }
      ]
    },
    {
      "cell_type": "markdown",
      "metadata": {
        "id": "9QJrhKDlXlJD"
      },
      "source": [
        "\n",
        "\n",
        "\\begin{align}\n",
        "|\\psi \\rangle = \\begin{pmatrix}\n",
        "\\alpha \\\\ \\beta\n",
        "\\end{pmatrix}, \\quad \\text{where } \\sqrt{\\langle \\psi | \\psi \\rangle} = 1. \n",
        "\\end{align}"
      ]
    },
    {
      "cell_type": "markdown",
      "metadata": {
        "id": "z7nLW9UuXlJE"
      },
      "source": [
        "Think of Qubit as an Electron:\n",
        "\n",
        "\\begin{align}\n",
        "\\text{spin-up}: \\ |0\\rangle &= \\begin{pmatrix} 1\\\\0 \\end{pmatrix} \\\\\n",
        "\\text{spin-down}: \\ |1\\rangle & = \\begin{pmatrix} 0\\\\1 \\end{pmatrix}\n",
        "\\end{align}"
      ]
    },
    {
      "cell_type": "code",
      "metadata": {
        "id": "CUlWwuD6XlJE"
      },
      "source": [
        "from qiskit import *"
      ],
      "execution_count": 54,
      "outputs": []
    },
    {
      "cell_type": "markdown",
      "metadata": {
        "id": "vMTVzugwXlJH"
      },
      "source": [
        "Another representation is via Bloch Sphere:"
      ]
    },
    {
      "cell_type": "code",
      "metadata": {
        "id": "TkxFmWi8XlJH",
        "outputId": "cd2fd93f-0bec-4b16-bfeb-73b8880c1a8c",
        "colab": {
          "base_uri": "https://localhost:8080/",
          "height": 410
        }
      },
      "source": [
        "from qiskit.visualization import plot_bloch_vector\n",
        "\n",
        "plot_bloch_vector([0,0,1], title=\"spin-up\")"
      ],
      "execution_count": 56,
      "outputs": [
        {
          "output_type": "execute_result",
          "data": {
            "image/png": "[encoded data removed]",
            "text/plain": [
              "<Figure size 360x360 with 1 Axes>"
            ]
          },
          "metadata": {
            "tags": []
          },
          "execution_count": 56
        }
      ]
    },
    {
      "cell_type": "markdown",
      "metadata": {
        "id": "dVF6VcYpXlJK"
      },
      "source": [
        "## Spin + / - :\n",
        "\n",
        "\\begin{align}\n",
        "\\text{spin +}: \\ |+\\rangle &= \\begin{pmatrix} 1/\\sqrt{2} \\\\ 1/\\sqrt{2} \\end{pmatrix} = \\frac{1}{\\sqrt{2}} \\left(|0\\rangle + |1\\rangle\\right) \\\\\n",
        "\\text{spin -}: \\ |-\\rangle & = \\begin{pmatrix} 1/\\sqrt{2} \\\\ -1/\\sqrt{2} \\end{pmatrix} = \\frac{1}{\\sqrt{2}} \\left(|0\\rangle - |1\\rangle\\right)\n",
        "\\end{align}"
      ]
    },
    {
      "cell_type": "code",
      "metadata": {
        "id": "CbYVZSlbXlJL",
        "outputId": "e14f40ab-f510-4922-a8d7-ba0eed48fe4c",
        "colab": {
          "base_uri": "https://localhost:8080/",
          "height": 391
        }
      },
      "source": [
        "plot_bloch_vector([1,0,0])"
      ],
      "execution_count": 57,
      "outputs": [
        {
          "output_type": "execute_result",
          "data": {
            "image/png": "[encoded data removed]",
            "text/plain": [
              "<Figure size 360x360 with 1 Axes>"
            ]
          },
          "metadata": {
            "tags": []
          },
          "execution_count": 57
        }
      ]
    },
    {
      "cell_type": "markdown",
      "metadata": {
        "id": "2K3bM16JXlJN"
      },
      "source": [
        "## Basis States"
      ]
    },
    {
      "cell_type": "markdown",
      "metadata": {
        "id": "VzQJH3A_XlJN"
      },
      "source": [
        "\n",
        "\\begin{align}\n",
        " |0\\rangle &= \\begin{pmatrix} 1\\\\0 \\end{pmatrix} \\\\\n",
        " |1\\rangle & = \\begin{pmatrix} 0\\\\1 \\end{pmatrix}\n",
        "\\end{align}\n",
        "Preapring other states from Basis States:\n",
        "\\begin{align}\n",
        "|00 \\rangle &= |0\\rangle \\otimes |0\\rangle = \\begin{pmatrix} 1\\\\0 \\end{pmatrix} \\otimes \\begin{pmatrix} 1\\\\0 \\end{pmatrix} = \\begin{pmatrix} 1 \\begin{pmatrix} 1\\\\0 \\end{pmatrix} \\\\0 \\begin{pmatrix} 1\\\\0 \\end{pmatrix} \\end{pmatrix} = \\begin{pmatrix} 1 \\times 1 \\\\ 1 \\times 0 \\\\ 0 \\times 1 \\\\ 0 \\times 0  \\end{pmatrix} = \\begin{pmatrix} 1\\\\0\\\\0\\\\0 \\end{pmatrix} \\\\\n",
        "|01 \\rangle &= |0\\rangle \\otimes |1\\rangle = \\begin{pmatrix} 1\\\\0 \\end{pmatrix} \\otimes \\begin{pmatrix} 0\\\\1 \\end{pmatrix} = \\begin{pmatrix} 0\\\\1\\\\0\\\\0 \\end{pmatrix} \\\\\n",
        "|10 \\rangle &= |1\\rangle \\otimes |0\\rangle = \\begin{pmatrix} 0\\\\1 \\end{pmatrix} \\otimes \\begin{pmatrix} 1\\\\0 \\end{pmatrix} = \\begin{pmatrix} 0\\\\0\\\\1\\\\0 \\end{pmatrix} \\\\\n",
        "|11 \\rangle &= |1\\rangle \\otimes |1\\rangle = \\begin{pmatrix} 0\\\\1 \\end{pmatrix} \\otimes \\begin{pmatrix} 0\\\\1 \\end{pmatrix} = \\begin{pmatrix} 0\\\\0\\\\0\\\\1 \\end{pmatrix}\n",
        "\\end{align}"
      ]
    },
    {
      "cell_type": "code",
      "metadata": {
        "id": "Ha8erw75sjUH"
      },
      "source": [
        "# for eg. |00> = tensor product of ket vectors |0>\n",
        "ket_zero = np.array([[1],[0]])\n",
        "# with |0> = column vector [[1], [0]]\n",
        "ket_one = np.array([[0],[1]])"
      ],
      "execution_count": 64,
      "outputs": []
    },
    {
      "cell_type": "code",
      "metadata": {
        "id": "5QlYHLDxXlJO",
        "outputId": "938788b8-7c58-4700-cb8f-470ce68aa97e",
        "colab": {
          "base_uri": "https://localhost:8080/"
        }
      },
      "source": [
        "np.array([[1],[0]])\n"
      ],
      "execution_count": 63,
      "outputs": [
        {
          "output_type": "execute_result",
          "data": {
            "text/plain": [
              "array([[1],\n",
              "       [0]])"
            ]
          },
          "metadata": {
            "tags": []
          },
          "execution_count": 63
        }
      ]
    },
    {
      "cell_type": "code",
      "metadata": {
        "id": "GW0zEMS4XlJR",
        "outputId": "38d7d0e9-685f-45d0-f1a2-c7df336e562f",
        "colab": {
          "base_uri": "https://localhost:8080/"
        }
      },
      "source": [
        "## then the tensor product of the ket vectors |0> and |0> (2x2 matrices) is this ket vector |00> (4x4 matrix)\n",
        "np.kron(ket_zero, ket_zero)"
      ],
      "execution_count": 66,
      "outputs": [
        {
          "output_type": "execute_result",
          "data": {
            "text/plain": [
              "array([[1],\n",
              "       [0],\n",
              "       [0],\n",
              "       [0]])"
            ]
          },
          "metadata": {
            "tags": []
          },
          "execution_count": 66
        }
      ]
    },
    {
      "cell_type": "code",
      "metadata": {
        "id": "37oj7UrmtYfO",
        "outputId": "efd549d9-1517-454f-a2a8-b59d28e1639a",
        "colab": {
          "base_uri": "https://localhost:8080/"
        }
      },
      "source": [
        "## then the tensor product of the ket vectors |0> and |1> (2x2 matrices) is this ket vector |01> (4x4 matrix)\n",
        "np.kron(ket_zero, ket_one)"
      ],
      "execution_count": 67,
      "outputs": [
        {
          "output_type": "execute_result",
          "data": {
            "text/plain": [
              "array([[0],\n",
              "       [1],\n",
              "       [0],\n",
              "       [0]])"
            ]
          },
          "metadata": {
            "tags": []
          },
          "execution_count": 67
        }
      ]
    },
    {
      "cell_type": "code",
      "metadata": {
        "id": "D4t38CEsteq2",
        "outputId": "463a9d6c-a2bb-4de5-f253-053c52b6c08f",
        "colab": {
          "base_uri": "https://localhost:8080/"
        }
      },
      "source": [
        "## |10>\n",
        "np.kron(ket_one, ket_zero)"
      ],
      "execution_count": 68,
      "outputs": [
        {
          "output_type": "execute_result",
          "data": {
            "text/plain": [
              "array([[0],\n",
              "       [0],\n",
              "       [1],\n",
              "       [0]])"
            ]
          },
          "metadata": {
            "tags": []
          },
          "execution_count": 68
        }
      ]
    },
    {
      "cell_type": "code",
      "metadata": {
        "id": "c4iCCkPNtmgs",
        "outputId": "d84f8b7c-3b7e-4dbb-f63c-e940962e8c18",
        "colab": {
          "base_uri": "https://localhost:8080/"
        }
      },
      "source": [
        "## |11>\n",
        "np.kron(ket_one, ket_one)"
      ],
      "execution_count": 69,
      "outputs": [
        {
          "output_type": "execute_result",
          "data": {
            "text/plain": [
              "array([[0],\n",
              "       [0],\n",
              "       [0],\n",
              "       [1]])"
            ]
          },
          "metadata": {
            "tags": []
          },
          "execution_count": 69
        }
      ]
    },
    {
      "cell_type": "markdown",
      "metadata": {
        "id": "Pz6h36aAXlJU"
      },
      "source": [
        "# Task Three: Qunatum Gates and Circuits"
      ]
    },
    {
      "cell_type": "code",
      "metadata": {
        "id": "uYeoDs0BXlJU"
      },
      "source": [
        "#from qiskit import *\n",
        "#from qiskit.visualization import plot_bloch_multivector"
      ],
      "execution_count": 70,
      "outputs": []
    },
    {
      "cell_type": "markdown",
      "metadata": {
        "id": "iqKwf4uLXlJX"
      },
      "source": [
        "## Pauli Matrices\n",
        "\n",
        "(They can represent somewhere you normally use quantum gates)"
      ]
    },
    {
      "cell_type": "markdown",
      "metadata": {
        "id": "80m2vWiHXlJX"
      },
      "source": [
        "\\begin{align}\n",
        "I = \\begin{pmatrix} 1&0 \\\\ 0&1 \\end{pmatrix}, \\quad\n",
        "X = \\begin{pmatrix} 0&1 \\\\ 1&0 \\end{pmatrix}, \\quad\n",
        "Y = \\begin{pmatrix} 0&i \\\\ -i&0 \\end{pmatrix}, \\quad\n",
        "Z = \\begin{pmatrix} 1&0 \\\\ 0&-1 \\end{pmatrix} \\quad\n",
        "\\end{align}"
      ]
    },
    {
      "cell_type": "markdown",
      "metadata": {
        "id": "6J-5Q_bpXlJh"
      },
      "source": [
        "## X-gate"
      ]
    },
    {
      "cell_type": "markdown",
      "metadata": {
        "id": "R8c6aMngXlJi"
      },
      "source": [
        "The X-gate is represented by the Pauli-X matrix:\n",
        "\n",
        "$$ X = \\begin{bmatrix} 0 & 1 \\\\ 1 & 0 \\end{bmatrix} = \\begin{pmatrix} 0 \\\\ 1 \\end{pmatrix} \\begin{pmatrix} 1, 0 \\end{pmatrix} + \\begin{pmatrix} 1 \\\\ 0 \\end{pmatrix} \\begin{pmatrix} 0, 1 \\end{pmatrix} = |0\\rangle\\langle1| + |1\\rangle\\langle0| $$\n",
        "\n",
        "Effect a gate has on a qubit: \n",
        "\n",
        "$$ X|0\\rangle = \\begin{bmatrix} 0 & 1 \\\\ 1 & 0 \\end{bmatrix}\\begin{bmatrix} 1 \\\\ 0 \\end{bmatrix} = \\begin{bmatrix} 0 \\times1 + 1 \\times0 \\\\ 1 \\times1 + 0 \\times0 \\end{bmatrix} = \\begin{bmatrix} 0 \\\\ 1 \\end{bmatrix} = |1\\rangle$$\n"
      ]
    },
    {
      "cell_type": "code",
      "metadata": {
        "id": "-Y0296aAXlJj",
        "outputId": "9c4d1097-f6d4-4451-e3e1-8943e79db086",
        "colab": {
          "base_uri": "https://localhost:8080/",
          "height": 62
        }
      },
      "source": [
        "# Let's do an X-gate on a |0> qubit ( => ket vector |1>)\n",
        "\n",
        "## let's start by creating a quantum circuit with one register,\n",
        "qc = QuantumCircuit(1)\n",
        "## and apply the X gate to it, i.e let's apply a 0 register to our quantum x-gate\n",
        "qc.x(0)\n",
        "\n",
        "## let's see what it looks like\n",
        "qc.draw()\n"
      ],
      "execution_count": 74,
      "outputs": [
        {
          "output_type": "execute_result",
          "data": {
            "text/html": [
              "<pre style=\"word-wrap: normal;white-space: pre;background: #fff0;line-height: 1.1;font-family: &quot;Courier New&quot;,Courier,monospace\">     ┌───┐\n",
              "q_0: ┤ X ├\n",
              "     └───┘</pre>"
            ],
            "text/plain": [
              "     ┌───┐\n",
              "q_0: ┤ X ├\n",
              "     └───┘"
            ]
          },
          "metadata": {
            "tags": []
          },
          "execution_count": 74
        }
      ]
    },
    {
      "cell_type": "code",
      "metadata": {
        "id": "nJYfOIA_1OYq",
        "outputId": "c0c339fc-513a-460a-c0f2-80f9e3d52dcd",
        "colab": {
          "base_uri": "https://localhost:8080/"
        }
      },
      "source": [
        "# Note. The class MatplotlibDrawer needs pylatexenc. to install, run\n",
        "#!pip install pylatexenc\n"
      ],
      "execution_count": 77,
      "outputs": [
        {
          "output_type": "stream",
          "text": [
            "Requirement already satisfied: pylatexenc in /usr/local/lib/python3.6/dist-packages (2.8)\n"
          ],
          "name": "stdout"
        }
      ]
    },
    {
      "cell_type": "code",
      "metadata": {
        "id": "4D467QC617xm"
      },
      "source": [
        "## let's make the drawing look better\n",
        "#qc.draw('mpl')"
      ],
      "execution_count": 78,
      "outputs": []
    },
    {
      "cell_type": "code",
      "metadata": {
        "id": "9o3B5KnkXlJl",
        "outputId": "2a50aa27-596c-4207-f1be-f75549865daa",
        "colab": {
          "base_uri": "https://localhost:8080/"
        }
      },
      "source": [
        "# Let's see the result\n",
        "# of applying the X-gate. After defining the circuit, as we did until now, we\n",
        "# have to run it, get the output of the circuit & we load the state structure.\n",
        "## For doing this, we define a backend\n",
        "backend = Aer.get_backend('statevector_simulator')\n",
        "out = execute(qc, backend).result().get_statevector()\n",
        "\n",
        "## After the simulation has ran, let's print out the result of our first\n",
        "#quantum circuit execution\n",
        "print(out)"
      ],
      "execution_count": 84,
      "outputs": [
        {
          "output_type": "stream",
          "text": [
            "[0.+0.j 1.+0.j]\n"
          ],
          "name": "stdout"
        }
      ]
    },
    {
      "cell_type": "code",
      "metadata": {
        "id": "IKzDhAw845bD",
        "outputId": "c59ea03c-f1c5-4cfb-a271-9a0769b79986",
        "colab": {
          "base_uri": "https://localhost:8080/",
          "height": 268
        }
      },
      "source": [
        "# source: https://qiskit.org/documentation/tutorials/circuits/2_plotting_data_in_qiskit.html\n",
        "from qiskit.visualization import plot_state_city, plot_bloch_multivector\n",
        "\n",
        "## Let's visualize our quantum circuit on a bloch sphere\n",
        "plot_bloch_multivector(out)\n"
      ],
      "execution_count": 82,
      "outputs": [
        {
          "output_type": "execute_result",
          "data": {
            "image/png": "[encoded data removed]",
            "text/plain": [
              "<Figure size 288x288 with 1 Axes>"
            ]
          },
          "metadata": {
            "tags": []
          },
          "execution_count": 82
        }
      ]
    },
    {
      "cell_type": "markdown",
      "metadata": {
        "id": "3xsaNFjgXlJo"
      },
      "source": [
        "## Z & Y-Gate"
      ]
    },
    {
      "cell_type": "markdown",
      "metadata": {
        "id": "X7YYY2jEXlJo"
      },
      "source": [
        "\n",
        "\n",
        "$$ Y = \\begin{bmatrix} 0 & -i \\\\ i & 0 \\end{bmatrix} \\quad\\quad\\quad\\quad Z = \\begin{bmatrix} 1 & 0 \\\\ 0 & -1 \\end{bmatrix} $$\n",
        "\n",
        "$$ Y = -i|0\\rangle\\langle1| + i|1\\rangle\\langle0| \\quad\\quad Z = |0\\rangle\\langle0| - |1\\rangle\\langle1| $$\n",
        "\n",
        "\n"
      ]
    },
    {
      "cell_type": "markdown",
      "metadata": {
        "id": "Ow_VH0gz5wAI"
      },
      "source": [
        "The Y and Z gates perform rotation around respectively, the Y-axis (by pi) and the Z-axis."
      ]
    },
    {
      "cell_type": "code",
      "metadata": {
        "id": "Jj7PtD6U6tad"
      },
      "source": [
        "# Do Y-gate on qubit 0\n",
        "qc.y(0)\n",
        "# Do Z-gate on qubit 0\n",
        "qc.z(0)\n",
        "\n",
        "qc.draw()\n",
        "#qc.draw('mpl')"
      ],
      "execution_count": null,
      "outputs": []
    },
    {
      "cell_type": "markdown",
      "metadata": {
        "id": "xi05Umz9XlJr"
      },
      "source": [
        "## Hadamard Gate"
      ]
    },
    {
      "cell_type": "markdown",
      "metadata": {
        "id": "Y7mTvQpN64tq"
      },
      "source": [
        "A fundamental quantum gate, it allows to implement superposition"
      ]
    },
    {
      "cell_type": "markdown",
      "metadata": {
        "id": "tLOM2WqyXlJs"
      },
      "source": [
        "\n",
        "\n",
        "$$ H = \\tfrac{1}{\\sqrt{2}}\\begin{bmatrix} 1 & 1 \\\\ 1 & -1 \\end{bmatrix} $$\n",
        "\n",
        "We can see that this performs the transformations below:\n",
        "\n",
        "$$ H|0\\rangle = |+\\rangle $$\n",
        "\n",
        "$$ H|1\\rangle = |-\\rangle $$ (It transforms the state zero to pus state, and one to minus state)"
      ]
    },
    {
      "cell_type": "code",
      "metadata": {
        "id": "SoTs54oMXlJs",
        "outputId": "bccdfc9a-68f0-474b-91e3-c1c78b98f116",
        "colab": {
          "base_uri": "https://localhost:8080/",
          "height": 122
        }
      },
      "source": [
        "#create circuit with three qubit\n",
        "qc = QuantumCircuit(3)\n",
        "\n",
        "# Apply H-gate to each qubit:\n",
        "for qubit in range(3):\n",
        "  qc.h(qubit)\n",
        "# See the circuit:\n",
        "qc.draw()\n",
        "#qc.draw('mpl')"
      ],
      "execution_count": 89,
      "outputs": [
        {
          "output_type": "execute_result",
          "data": {
            "text/html": [
              "<pre style=\"word-wrap: normal;white-space: pre;background: #fff0;line-height: 1.1;font-family: &quot;Courier New&quot;,Courier,monospace\">     ┌───┐\n",
              "q_0: ┤ H ├\n",
              "     ├───┤\n",
              "q_1: ┤ H ├\n",
              "     ├───┤\n",
              "q_2: ┤ H ├\n",
              "     └───┘</pre>"
            ],
            "text/plain": [
              "     ┌───┐\n",
              "q_0: ┤ H ├\n",
              "     ├───┤\n",
              "q_1: ┤ H ├\n",
              "     ├───┤\n",
              "q_2: ┤ H ├\n",
              "     └───┘"
            ]
          },
          "metadata": {
            "tags": []
          },
          "execution_count": 89
        }
      ]
    },
    {
      "cell_type": "markdown",
      "metadata": {
        "id": "FkpCuIJ9XlJx"
      },
      "source": [
        "## Identity Gate"
      ]
    },
    {
      "cell_type": "markdown",
      "metadata": {
        "id": "459ZRHpmXlJy"
      },
      "source": [
        "\n",
        "\n",
        "$$\n",
        "I = \\begin{bmatrix} 1 & 0 \\\\ 0 & 1\\end{bmatrix}\n",
        "$$\n",
        "\n",
        "\n",
        "\n",
        "$$ I = XX $$\n",
        "\n"
      ]
    },
    {
      "cell_type": "code",
      "metadata": {
        "id": "SKW2cUg-XlJy",
        "outputId": "ef75f4b8-c6ed-40db-ae6c-3cca0cdac8fc",
        "colab": {
          "base_uri": "https://localhost:8080/",
          "height": 122
        }
      },
      "source": [
        "qc.i(0)\n",
        "\n",
        "qc.draw()"
      ],
      "execution_count": 90,
      "outputs": [
        {
          "output_type": "execute_result",
          "data": {
            "text/html": [
              "<pre style=\"word-wrap: normal;white-space: pre;background: #fff0;line-height: 1.1;font-family: &quot;Courier New&quot;,Courier,monospace\">     ┌───┐┌───┐\n",
              "q_0: ┤ H ├┤ I ├\n",
              "     ├───┤└───┘\n",
              "q_1: ┤ H ├─────\n",
              "     ├───┤     \n",
              "q_2: ┤ H ├─────\n",
              "     └───┘     </pre>"
            ],
            "text/plain": [
              "     ┌───┐┌───┐\n",
              "q_0: ┤ H ├┤ I ├\n",
              "     ├───┤└───┘\n",
              "q_1: ┤ H ├─────\n",
              "     ├───┤     \n",
              "q_2: ┤ H ├─────\n",
              "     └───┘     "
            ]
          },
          "metadata": {
            "tags": []
          },
          "execution_count": 90
        }
      ]
    },
    {
      "cell_type": "markdown",
      "metadata": {
        "id": "YmjjOcFbXlJ2"
      },
      "source": [
        " ** Other Gates: S-gate , T-gate, U-gate"
      ]
    },
    {
      "cell_type": "markdown",
      "metadata": {
        "id": "ZF9kJylvXlJ3"
      },
      "source": [
        "# Task Four : Multiple Qubits, Entanglement"
      ]
    },
    {
      "cell_type": "markdown",
      "metadata": {
        "id": "gW_q638lXlJ3"
      },
      "source": [
        "## Multiple Qubits"
      ]
    },
    {
      "cell_type": "markdown",
      "metadata": {
        "id": "mB5C4eRUXlJ4"
      },
      "source": [
        "The state of two qubits :\n",
        "\n",
        "$$ |psi\\rangle = a_{00}|00\\rangle + a_{01}|01\\rangle + a_{10}|10\\rangle + a_{11}|11\\rangle = \\begin{bmatrix} a_{00} \\\\ a_{01} \\\\ a_{10} \\\\ a_{11} \\end{bmatrix} $$"
      ]
    },
    {
      "cell_type": "code",
      "metadata": {
        "id": "huGSEvKHXlJ6"
      },
      "source": [
        "from qiskit import *"
      ],
      "execution_count": null,
      "outputs": []
    },
    {
      "cell_type": "code",
      "metadata": {
        "id": "eJbSfvx_XlJ_"
      },
      "source": [
        "\n",
        "# Apply H-gate to each qubit:\n",
        "\n",
        "# See the circuit:\n"
      ],
      "execution_count": null,
      "outputs": []
    },
    {
      "cell_type": "markdown",
      "metadata": {
        "id": "_HI8uDwZXlKD"
      },
      "source": [
        "Each qubit is in the state $|+\\rangle$, so we should see the vector:\n",
        "\n",
        "$$ \n",
        "|{+++}\\rangle = \\frac{1}{\\sqrt{8}}\\begin{bmatrix} 1 \\\\ 1 \\\\ 1 \\\\ 1 \\\\\n",
        "                              1 \\\\ 1 \\\\ 1 \\\\ 1 \\\\\n",
        "              \\end{bmatrix}\n",
        "$$"
      ]
    },
    {
      "cell_type": "code",
      "metadata": {
        "id": "QY5E3B7YXlKD"
      },
      "source": [
        "# Let's see the result\n"
      ],
      "execution_count": null,
      "outputs": []
    },
    {
      "cell_type": "code",
      "metadata": {
        "id": "31rxf5AWXlKF"
      },
      "source": [
        ""
      ],
      "execution_count": null,
      "outputs": []
    },
    {
      "cell_type": "markdown",
      "metadata": {
        "id": "DGqetZeNXlKI"
      },
      "source": [
        "\n",
        "\n",
        "$$\n",
        "X|q_1\\rangle \\otimes H|q_0\\rangle = (X\\otimes H)|q_1 q_0\\rangle\n",
        "$$\n",
        "\n",
        "The operation looks like this:\n",
        "\n",
        "$$\n",
        "X\\otimes H = \\begin{bmatrix} 0 & 1 \\\\ 1 & 0 \\end{bmatrix} \\otimes \\tfrac{1}{\\sqrt{2}}\\begin{bmatrix} 1 & 1 \\\\ 1 & -1 \\end{bmatrix} = \\frac{1}{\\sqrt{2}}\n",
        "\\begin{bmatrix} 0 & 0 & 1 & 1 \\\\\n",
        "                0 & 0 & 1 & -1 \\\\\n",
        "                1 & 1 & 0 & 0 \\\\\n",
        "                1 & -1 & 0 & 0 \\\\\n",
        "\\end{bmatrix}\n",
        "$$\n",
        "\n",
        "Which we can then apply to our 4D statevector $|q_1 q_0\\rangle$. You will often see the clearer notation:\n",
        "\n",
        "$$\n",
        "X\\otimes H = \n",
        "\\begin{bmatrix} 0 & H \\\\\n",
        "               H & 0\\\\\n",
        "\\end{bmatrix}\n",
        "$$"
      ]
    },
    {
      "cell_type": "markdown",
      "metadata": {
        "id": "aL3IcVZBXlKI"
      },
      "source": [
        "## C-Not Gate"
      ]
    },
    {
      "cell_type": "code",
      "metadata": {
        "id": "XuH5EHKOXlKJ"
      },
      "source": [
        "#create circuit with two qubit\n",
        "\n",
        "# Apply CNOT\n",
        "\n",
        "# See the circuit:\n"
      ],
      "execution_count": null,
      "outputs": []
    },
    {
      "cell_type": "markdown",
      "metadata": {
        "id": "YxCX2911XlKL"
      },
      "source": [
        "Classical truth table of C-Not gate:\n",
        "\n",
        "| Input (t,c) | Output (t,c) |\n",
        "|:-----------:|:------------:|\n",
        "| 00          | 00           |\n",
        "| 01          | 11           |\n",
        "| 10          | 10           |\n",
        "| 11          | 01           |\n",
        "\n"
      ]
    },
    {
      "cell_type": "markdown",
      "metadata": {
        "id": "J8RHxKPcXlKM"
      },
      "source": [
        "## Entanglement"
      ]
    },
    {
      "cell_type": "code",
      "metadata": {
        "id": "ask1dxD_XlKN"
      },
      "source": [
        "#create two qubit circuit\n",
        "\n",
        "# Apply H-gate to the first:\n"
      ],
      "execution_count": null,
      "outputs": []
    },
    {
      "cell_type": "code",
      "metadata": {
        "id": "o3grob0qXlKR"
      },
      "source": [
        "# Let's see the result:\n"
      ],
      "execution_count": null,
      "outputs": []
    },
    {
      "cell_type": "markdown",
      "metadata": {
        "id": "9v3XIc3KXlKT"
      },
      "source": [
        "Quantum System Sate is:\n",
        "\n",
        "$$\n",
        "|0{+}\\rangle = \\tfrac{1}{\\sqrt{2}}(|00\\rangle + |01\\rangle)\n",
        "$$\n"
      ]
    },
    {
      "cell_type": "code",
      "metadata": {
        "id": "7dsUJqunXlKU"
      },
      "source": [
        "\n",
        "# Apply H-gate to the first:\n",
        "\n",
        "# Apply a CNOT:\n",
        "\n"
      ],
      "execution_count": null,
      "outputs": []
    },
    {
      "cell_type": "code",
      "metadata": {
        "id": "8c86kIStXlKV"
      },
      "source": [
        "# Let's see the result:\n"
      ],
      "execution_count": null,
      "outputs": []
    },
    {
      "cell_type": "markdown",
      "metadata": {
        "id": "H6nm2XKdXlKY"
      },
      "source": [
        "We see we have this final state (Bell State):\n",
        "\n",
        "$$\n",
        "\\text{CNOT}|0{+}\\rangle = \\tfrac{1}{\\sqrt{2}}(|00\\rangle + |11\\rangle)\n",
        "$$ \n",
        "\n"
      ]
    },
    {
      "cell_type": "markdown",
      "metadata": {
        "id": "ByhjK7s4XlKa"
      },
      "source": [
        "Other Bell States:"
      ]
    },
    {
      "cell_type": "markdown",
      "metadata": {
        "id": "HwMDtaKhXlKd"
      },
      "source": [
        "# Task Five: Bernstein-Vazirani Algorithm"
      ]
    },
    {
      "cell_type": "markdown",
      "metadata": {
        "id": "98k4f8UaXlKe"
      },
      "source": [
        "\n",
        "A black-box function $f$, which takes as input a string of bits ($x$), and returns either $0$ or $1$, that is:\n",
        "\n",
        "\n",
        "\n",
        "\n",
        "\n",
        "\n",
        "\n",
        "$$f(\\{x_0,x_1,x_2,...\\}) \\rightarrow 0 \\textrm{ or } 1 \\textrm{ where } x_n \\textrm{ is }0 \\textrm{ or } 1  $$ \n",
        "\n",
        "The function is guaranteed to return the bitwise product of the input with some string, $s$. \n"
      ]
    },
    {
      "cell_type": "markdown",
      "metadata": {
        "id": "2SsjPgfuXlKf"
      },
      "source": [
        "In other words, given an input $x$, $f(x) = s \\cdot x \\, \\text{(mod 2)} =\\ x_0 * s_0+x_1*s_1+x_2*s_2+...\\ $ mod 2"
      ]
    },
    {
      "cell_type": "markdown",
      "metadata": {
        "id": "RO3xTuxFXlKg"
      },
      "source": [
        "The quantum Bernstein-Vazirani Oracle:\n",
        "    \n",
        "1. Initialise the inputs qubits to the $|0\\rangle^{\\otimes n}$ state, and output qubit to $|{-}\\rangle$.\n",
        "2. Apply Hadamard gates to the input register\n",
        "3. Query the oracle\n",
        "4. Apply Hadamard gates to the input register\n",
        "5. Measure"
      ]
    },
    {
      "cell_type": "markdown",
      "metadata": {
        "id": "5ddopacrXlKg"
      },
      "source": [
        "## Example Two Qubits:\n",
        "\n",
        "<ol>\n",
        "    <li> The register of two qubits is initialized to zero:\n",
        "    \n",
        "\n",
        "$$\\lvert \\psi_0 \\rangle = \\lvert 0 0 \\rangle$$\n",
        "\n",
        " \n",
        "   </li>\n",
        "\n",
        "   <li> Apply a Hadamard gate to both qubits:\n",
        "    \n",
        "\n",
        "$$\\lvert \\psi_1 \\rangle = \\frac{1}{2} \\left( \\lvert 0 0 \\rangle + \\lvert 0 1 \\rangle + \\lvert 1 0 \\rangle + \\lvert 1 1 \\rangle \\right) $$\n",
        "\n",
        " \n",
        "   </li>\n",
        "\n",
        "   <li> For the string $s=11$, the quantum oracle performs the operation:\n",
        "$$\n",
        "|x \\rangle \\xrightarrow{f_s} (-1)^{x\\cdot 11} |x \\rangle. \n",
        "$$\n",
        "\n",
        "$$\\lvert \\psi_2 \\rangle = \\frac{1}{2} \\left( (-1)^{00\\cdot 11}|00\\rangle + (-1)^{01\\cdot 11}|01\\rangle + (-1)^{10\\cdot 11}|10\\rangle + (-1)^{11\\cdot 11}|11\\rangle \\right)$$\n",
        "\n",
        "$$\\lvert \\psi_2 \\rangle = \\frac{1}{2} \\left( \\lvert 0 0 \\rangle - \\lvert 0 1 \\rangle - \\lvert 1 0 \\rangle + \\lvert 1 1 \\rangle \\right)$$\n",
        "\n",
        " \n",
        "   </li>\n",
        "\n",
        "   <li> Apply a Hadamard gate to both qubits:\n",
        "    \n",
        "\n",
        "$$\\lvert \\psi_3 \\rangle = \\lvert 1 1 \\rangle$$\n",
        "\n",
        " \n",
        "   </li>\n",
        "\n",
        "   <li> Measure to find the secret string $s=11$\n",
        "   </li>\n",
        "\n",
        "\n",
        "</ol>\n"
      ]
    },
    {
      "cell_type": "code",
      "metadata": {
        "id": "Dhtl5az_XlKh"
      },
      "source": [
        "from qiskit import *\n",
        "%matplotlib inline\n",
        "from qiskit.tools.visualization import plot_histogram"
      ],
      "execution_count": null,
      "outputs": []
    },
    {
      "cell_type": "code",
      "metadata": {
        "id": "1ZSu10FCXlKl"
      },
      "source": [
        ""
      ],
      "execution_count": null,
      "outputs": []
    },
    {
      "cell_type": "code",
      "metadata": {
        "id": "si_vuyZuXlKo"
      },
      "source": [
        ""
      ],
      "execution_count": null,
      "outputs": []
    },
    {
      "cell_type": "code",
      "metadata": {
        "id": "2Jgv6KutXlKs"
      },
      "source": [
        ""
      ],
      "execution_count": null,
      "outputs": []
    },
    {
      "cell_type": "code",
      "metadata": {
        "id": "p8pfU7KXXlKv"
      },
      "source": [
        ""
      ],
      "execution_count": null,
      "outputs": []
    },
    {
      "cell_type": "code",
      "metadata": {
        "id": "aVNgsQ2EXlKz"
      },
      "source": [
        ""
      ],
      "execution_count": null,
      "outputs": []
    }
  ]
}